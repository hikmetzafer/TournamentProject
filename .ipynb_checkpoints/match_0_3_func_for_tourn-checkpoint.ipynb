{
 "cells": [
  {
   "cell_type": "code",
   "execution_count": 28,
   "metadata": {},
   "outputs": [],
   "source": [
    "import random\n",
    "\n",
    "def footmatch(home, away):\n",
    "        \n",
    "    home_total, away_total = 0,0\n",
    "\n",
    "    for matches in range(2):\n",
    "\n",
    "        list_random = []\n",
    "        goal_try = random.randint(0,10)\n",
    "        home_score,away_score = 0,0\n",
    "\n",
    "        while goal_try < random.randint(0,100):\n",
    "            list_random.append(random.randint(0,1000))\n",
    "            goal_try += 3\n",
    "\n",
    "        for goal in list_random:\n",
    "            if goal % 3 == 1:\n",
    "                home_score += 1\n",
    "            elif goal % 3 == 2:\n",
    "                away_score += 1\n",
    "\n",
    "        if matches < 1:\n",
    "            print(f\"\\n{matches+1}. match's score is {home} {home_score} : {away} {away_score}\")\n",
    "        else :\n",
    "            print(f\"\\n{matches+1}. match's score is {away} {away_score} : {home} {home_score}\")\n",
    "\n",
    "        home_total += home_score\n",
    "        away_total += away_score\n",
    "\n",
    "    if home_total == away_total:\n",
    "        penalties = random.choice([True, False])\n",
    "        if penalties:\n",
    "            result = f'Draw. {home} won with penalty shots'\n",
    "            winner = home\n",
    "        else:\n",
    "            result = f'Draw. {away} won with penalty shots'\n",
    "            winner = away\n",
    "    elif home_total > away_total:\n",
    "        result = f'{home} won'\n",
    "        winner = home\n",
    "    else:\n",
    "        result = f'{away} won'\n",
    "        winner = away\n",
    "    print('\\n'+result, end='\\n\\n')\n",
    "    return winner"
   ]
  },
  {
   "cell_type": "code",
   "execution_count": 12,
   "metadata": {},
   "outputs": [
    {
     "name": "stdout",
     "output_type": "stream",
     "text": [
      "['GS', 'FB', 'BJK', 'TS']\n"
     ]
    }
   ],
   "source": [
    "list_teams = ['GS', 'FB', 'BJK', 'TS']\n",
    "print(list_teams)"
   ]
  },
  {
   "cell_type": "code",
   "execution_count": 13,
   "metadata": {},
   "outputs": [
    {
     "name": "stdout",
     "output_type": "stream",
     "text": [
      "GS\n",
      "FB\n",
      "BJK\n",
      "TS\n"
     ]
    }
   ],
   "source": [
    "for i in list_teams:\n",
    "    #first_team = list_teams.pop(random.randint(0, len(list_teams)-i))\n",
    "    print(i)"
   ]
  },
  {
   "cell_type": "code",
   "execution_count": 29,
   "metadata": {},
   "outputs": [
    {
     "name": "stdout",
     "output_type": "stream",
     "text": [
      "\n",
      "1. match's score is GS 1 : BJK 1\n",
      "\n",
      "2. match's score is BJK 1 : GS 1\n",
      "\n",
      "Draw. BJK won with penalty shots\n",
      "\n",
      "\n",
      "1. match's score is TS 2 : FB 0\n",
      "\n",
      "2. match's score is FB 0 : TS 1\n",
      "\n",
      "TS won\n",
      "\n",
      "\n",
      "1. match's score is BJK 4 : TS 0\n",
      "\n",
      "2. match's score is TS 1 : BJK 1\n",
      "\n",
      "BJK won\n",
      "\n"
     ]
    }
   ],
   "source": [
    "a = footmatch('GS', 'BJK')\n",
    "b = footmatch('TS', 'FB')\n",
    "champion = footmatch(a,b)"
   ]
  },
  {
   "cell_type": "code",
   "execution_count": null,
   "metadata": {},
   "outputs": [],
   "source": []
  },
  {
   "cell_type": "code",
   "execution_count": null,
   "metadata": {},
   "outputs": [],
   "source": []
  },
  {
   "cell_type": "code",
   "execution_count": null,
   "metadata": {},
   "outputs": [],
   "source": []
  }
 ],
 "metadata": {
  "kernelspec": {
   "display_name": "Python 3",
   "language": "python",
   "name": "python3"
  },
  "language_info": {
   "codemirror_mode": {
    "name": "ipython",
    "version": 3
   },
   "file_extension": ".py",
   "mimetype": "text/x-python",
   "name": "python",
   "nbconvert_exporter": "python",
   "pygments_lexer": "ipython3",
   "version": "3.7.6"
  }
 },
 "nbformat": 4,
 "nbformat_minor": 4
}
