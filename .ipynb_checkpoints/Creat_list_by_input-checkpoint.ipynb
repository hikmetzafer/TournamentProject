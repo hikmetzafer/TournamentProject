{
 "cells": [
  {
   "cell_type": "code",
   "execution_count": 5,
   "metadata": {},
   "outputs": [
    {
     "name": "stdout",
     "output_type": "stream",
     "text": [
      "You should enter 4 teams for the Tournament\n"
     ]
    },
    {
     "name": "stdin",
     "output_type": "stream",
     "text": [
      "1. team of 4 q\n",
      "2. team of 4 w\n",
      "3. team of 4 e\n",
      "4. team of 4 r\n"
     ]
    },
    {
     "name": "stdout",
     "output_type": "stream",
     "text": [
      "['q', 'w', 'e', 'r']\n"
     ]
    }
   ],
   "source": [
    "print(\"You should enter 4 teams for the Tournament\")\n",
    "i = 1\n",
    "list_teams = []    \n",
    "while i < 5:\n",
    "    team = input(f\"{i}. team of 4\")\n",
    "    list_teams.append(team)\n",
    "    i += 1   \n",
    "print(list_teams)"
   ]
  },
  {
   "cell_type": "code",
   "execution_count": null,
   "metadata": {},
   "outputs": [],
   "source": []
  }
 ],
 "metadata": {
  "kernelspec": {
   "display_name": "Python 3",
   "language": "python",
   "name": "python3"
  },
  "language_info": {
   "codemirror_mode": {
    "name": "ipython",
    "version": 3
   },
   "file_extension": ".py",
   "mimetype": "text/x-python",
   "name": "python",
   "nbconvert_exporter": "python",
   "pygments_lexer": "ipython3",
   "version": "3.7.6"
  }
 },
 "nbformat": 4,
 "nbformat_minor": 4
}
