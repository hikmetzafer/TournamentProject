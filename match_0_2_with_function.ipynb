{
 "cells": [
  {
   "cell_type": "code",
   "execution_count": 1,
   "metadata": {},
   "outputs": [],
   "source": [
    "import random\n",
    "\n",
    "def footmatch(home, away):\n",
    "        \n",
    "    home_total, away_total = 0,0\n",
    "\n",
    "    for matches in range(2):\n",
    "\n",
    "        list_random = []\n",
    "        goal_try = random.randint(0,10)\n",
    "        home_score,away_score = 0,0\n",
    "\n",
    "        while goal_try < random.randint(0,100):\n",
    "            list_random.append(random.randint(0,1000))\n",
    "            goal_try += 3\n",
    "\n",
    "        for goal in list_random:\n",
    "            if goal % 3 == 1:\n",
    "                home_score += 1\n",
    "            elif goal % 3 == 2:\n",
    "                away_score += 1\n",
    "\n",
    "        if matches < 1:\n",
    "            print(f\"\\n{matches+1}. match's score is {home} {home_score} : {away} {away_score}\")\n",
    "        else :\n",
    "            print(f\"\\n{matches+1}. match's score is {away} {away_score} : {home} {home_score}\")\n",
    "\n",
    "        home_total += home_score\n",
    "        away_total += away_score\n",
    "\n",
    "    if home_total == away_total:\n",
    "        penalties = random.choice([True, False])\n",
    "        if penalties:\n",
    "            result = 'Draw. Your team is CHAMPION with penalty shots'\n",
    "        else:\n",
    "            result = 'Draw. Your team lost with penalty shots'\n",
    "    elif home_total > away_total:\n",
    "        result = f'Your team is CHAMPION'\n",
    "    else:\n",
    "        result = f'Your team lost'\n",
    "\n",
    "    print('\\n'+result, end='\\n\\n')    "
   ]
  },
  {
   "cell_type": "code",
   "execution_count": 2,
   "metadata": {},
   "outputs": [
    {
     "name": "stdout",
     "output_type": "stream",
     "text": [
      "\n",
      "1. match's score is GS 1 : FB 0\n",
      "\n",
      "2. match's score is FB 2 : GS 1\n",
      "\n",
      "Draw. Your team lost with penalty shots\n",
      "\n"
     ]
    }
   ],
   "source": [
    "footmatch('GS','FB')"
   ]
  },
  {
   "cell_type": "code",
   "execution_count": null,
   "metadata": {},
   "outputs": [],
   "source": []
  }
 ],
 "metadata": {
  "kernelspec": {
   "display_name": "Python 3",
   "language": "python",
   "name": "python3"
  },
  "language_info": {
   "codemirror_mode": {
    "name": "ipython",
    "version": 3
   },
   "file_extension": ".py",
   "mimetype": "text/x-python",
   "name": "python",
   "nbconvert_exporter": "python",
   "pygments_lexer": "ipython3",
   "version": "3.7.6"
  }
 },
 "nbformat": 4,
 "nbformat_minor": 4
}
